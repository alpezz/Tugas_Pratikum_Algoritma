{
 "cells": [
  {
   "cell_type": "code",
   "execution_count": 1,
   "metadata": {
    "colab": {
     "base_uri": "https://localhost:8080/"
    },
    "executionInfo": {
     "elapsed": 745,
     "status": "ok",
     "timestamp": 1735272325561,
     "user": {
      "displayName": "ZUAGERI ARDIAN",
      "userId": "13906361626540139109"
     },
     "user_tz": -420
    },
    "id": "hTgvyvCDSUjJ",
    "outputId": "c4a4d556-2923-4f45-e2f4-1b60aba4c93b"
   },
   "outputs": [
    {
     "name": "stdout",
     "output_type": "stream",
     "text": [
      "Hafiz->Alpez->Bob->None\n"
     ]
    }
   ],
   "source": [
    "class Node:\n",
    "    def __init__(self, data):\n",
    "        self.data = data\n",
    "        self.next = None\n",
    "\n",
    "class LinkedList:\n",
    "    def __init__(self):\n",
    "        self.head = None\n",
    "\n",
    "    def insertEnd(self, newNode):\n",
    "        if self.head is None:\n",
    "            self.head = newNode\n",
    "        else:\n",
    "            lastNode = self.head\n",
    "            while True:\n",
    "                if lastNode.next is None:\n",
    "                    break\n",
    "                lastNode = lastNode.next\n",
    "            lastNode.next = newNode\n",
    "\n",
    "# Contoh penggunaan\n",
    "firstNode = Node(\"Hafiz\") \n",
    "LinkedList = LinkedList()\n",
    "\n",
    "LinkedList.insertEnd(firstNode)\n",
    "secondNode = Node(\"Alpez\")\n",
    "\n",
    "LinkedList.insertEnd(secondNode)\n",
    "thirdNode = Node(\"Bob\")\n",
    "LinkedList.insertEnd(thirdNode)\n",
    "\n",
    "def printList(head):\n",
    "    temp = head\n",
    "    while (temp):\n",
    "        print(temp.data, end=\"->\")\n",
    "        temp = temp.next\n",
    "    print(\"None\")\n",
    "\n",
    "printList(LinkedList.head) # Output: John->Ben->Matthew->None\n"
   ]
  },
  {
   "cell_type": "code",
   "execution_count": 6,
   "metadata": {
    "colab": {
     "base_uri": "https://localhost:8080/"
    },
    "executionInfo": {
     "elapsed": 377,
     "status": "ok",
     "timestamp": 1735272431309,
     "user": {
      "displayName": "ZUAGERI ARDIAN",
      "userId": "13906361626540139109"
     },
     "user_tz": -420
    },
    "id": "Mw72JguES-Bv",
    "outputId": "e1bb4ad4-bda9-458c-d29d-c54241719151"
   },
   "outputs": [
    {
     "name": "stdout",
     "output_type": "stream",
     "text": [
      "10 -> 20 -> 30 -> None\n"
     ]
    }
   ],
   "source": [
    "class Node:\n",
    "    def __init__(self, data):\n",
    "        self.data = data  # Menyimpan data node\n",
    "        self.next = None  # Menunjuk ke node berikutnya (default None)\n",
    "\n",
    "class SinglyLinkedList:\n",
    "    def __init__(self):\n",
    "        self.head = None  # Awalnya linked list kosong\n",
    "\n",
    "    def append(self, data):\n",
    "        new_node = Node(data)  # Membuat node baru\n",
    "        if not self.head:  # Jika linked list kosong\n",
    "            self.head = new_node\n",
    "            return\n",
    "        current = self.head\n",
    "        while current.next:  # Cari node terakhir\n",
    "            current = current.next\n",
    "        current.next = new_node  # Tambahkan node baru di akhir\n",
    "\n",
    "    def display(self):\n",
    "        current = self.head  # Mulai dari head\n",
    "        while current:\n",
    "            print(current.data, end=\" -> \")  # Cetak data node\n",
    "            current = current.next  # Lanjut ke node berikutnya\n",
    "        print(\"None\")  # Menunjukkan akhir linked list\n",
    "\n",
    "# Contoh penggunaan\n",
    "if __name__ == \"__main__\":\n",
    "    sll = SinglyLinkedList()\n",
    "    sll.append(10)  # Tambahkan 10\n",
    "    sll.append(20)  # Tambahkan 20\n",
    "    sll.append(30)  # Tambahkan 30\n",
    "    sll.display()   # Tampilkan linked list\n"
   ]
  }
 ],
 "metadata": {
  "colab": {
   "authorship_tag": "ABX9TyMMpCC1Ammjaby9N9fc+p9G",
   "provenance": []
  },
  "kernelspec": {
   "display_name": "Python 3",
   "name": "python3"
  },
  "language_info": {
   "codemirror_mode": {
    "name": "ipython",
    "version": 3
   },
   "file_extension": ".py",
   "mimetype": "text/x-python",
   "name": "python",
   "nbconvert_exporter": "python",
   "pygments_lexer": "ipython3",
   "version": "3.12.2"
  }
 },
 "nbformat": 4,
 "nbformat_minor": 0
}
